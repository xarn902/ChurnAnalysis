{
    "cells": [
        {
            "cell_type": "code",
            "execution_count": 1,
            "source": [
                "import matplotlib as plt\n",
                "\n"
            ],
            "outputs": [],
            "metadata": {}
        }
    ],
    "metadata": {
        "orig_nbformat": 4,
        "language_info": {
            "name": "python",
            "version": "3.9.5",
            "mimetype": "text/x-python",
            "codemirror_mode": {
                "name": "ipython",
                "version": 3
            },
            "pygments_lexer": "ipython3",
            "nbconvert_exporter": "python",
            "file_extension": ".py"
        },
        "kernelspec": {
            "name": "python3",
            "display_name": "Python 3.9.5 64-bit ('datamining-TMMMTv_Z': venv)"
        },
        "interpreter": {
            "hash": "8f831c8307c7dae9d0a8cc425516edf7897e4c01712a52bc51eaa77314aa764d"
        }
    },
    "nbformat": 4,
    "nbformat_minor": 2
}